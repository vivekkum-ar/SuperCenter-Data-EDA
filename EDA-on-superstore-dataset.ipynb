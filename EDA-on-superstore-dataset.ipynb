{
 "cells": [
  {
   "cell_type": "markdown",
   "id": "16dda50b",
   "metadata": {
    "id": "16dda50b"
   },
   "source": [
    "# Data Science and Business Analytics Internship\n",
    "## Exploratory Data Analysis - Retail"
   ]
  },
  {
   "cell_type": "markdown",
   "id": "ba514e2a",
   "metadata": {},
   "source": [
    "<h1><center>Vivek Kumar</center></h1>"
   ]
  },
  {
   "cell_type": "code",
   "execution_count": 1,
   "id": "f8907b11",
   "metadata": {
    "id": "f8907b11"
   },
   "outputs": [],
   "source": [
    "# importing required libraries\n",
    "import numpy as np\n",
    "import pandas as pd"
   ]
  },
  {
   "cell_type": "code",
   "execution_count": 2,
   "id": "5ed3f570",
   "metadata": {
    "id": "5ed3f570"
   },
   "outputs": [],
   "source": [
    "#import superstore dataset\n",
    "superstore_df=pd.read_csv(r'C:\\Users\\Vivek Anand\\Desktop\\TSF internship\\SampleSuperstore.csv')"
   ]
  },
  {
   "cell_type": "code",
   "execution_count": 3,
   "id": "4f477afb",
   "metadata": {
    "id": "4f477afb",
    "outputId": "ca248ff3-f9e8-4da0-e669-e546b6c2bdf6"
   },
   "outputs": [
    {
     "data": {
      "text/html": [
       "<div>\n",
       "<style scoped>\n",
       "    .dataframe tbody tr th:only-of-type {\n",
       "        vertical-align: middle;\n",
       "    }\n",
       "\n",
       "    .dataframe tbody tr th {\n",
       "        vertical-align: top;\n",
       "    }\n",
       "\n",
       "    .dataframe thead th {\n",
       "        text-align: right;\n",
       "    }\n",
       "</style>\n",
       "<table border=\"1\" class=\"dataframe\">\n",
       "  <thead>\n",
       "    <tr style=\"text-align: right;\">\n",
       "      <th></th>\n",
       "      <th>Ship Mode</th>\n",
       "      <th>Segment</th>\n",
       "      <th>Country</th>\n",
       "      <th>City</th>\n",
       "      <th>State</th>\n",
       "      <th>Postal Code</th>\n",
       "      <th>Region</th>\n",
       "      <th>Category</th>\n",
       "      <th>Sub-Category</th>\n",
       "      <th>Sales</th>\n",
       "      <th>Quantity</th>\n",
       "      <th>Discount</th>\n",
       "      <th>Profit</th>\n",
       "    </tr>\n",
       "  </thead>\n",
       "  <tbody>\n",
       "    <tr>\n",
       "      <th>0</th>\n",
       "      <td>Second Class</td>\n",
       "      <td>Consumer</td>\n",
       "      <td>United States</td>\n",
       "      <td>Henderson</td>\n",
       "      <td>Kentucky</td>\n",
       "      <td>42420</td>\n",
       "      <td>South</td>\n",
       "      <td>Furniture</td>\n",
       "      <td>Bookcases</td>\n",
       "      <td>261.9600</td>\n",
       "      <td>2</td>\n",
       "      <td>0.00</td>\n",
       "      <td>41.9136</td>\n",
       "    </tr>\n",
       "    <tr>\n",
       "      <th>1</th>\n",
       "      <td>Second Class</td>\n",
       "      <td>Consumer</td>\n",
       "      <td>United States</td>\n",
       "      <td>Henderson</td>\n",
       "      <td>Kentucky</td>\n",
       "      <td>42420</td>\n",
       "      <td>South</td>\n",
       "      <td>Furniture</td>\n",
       "      <td>Chairs</td>\n",
       "      <td>731.9400</td>\n",
       "      <td>3</td>\n",
       "      <td>0.00</td>\n",
       "      <td>219.5820</td>\n",
       "    </tr>\n",
       "    <tr>\n",
       "      <th>2</th>\n",
       "      <td>Second Class</td>\n",
       "      <td>Corporate</td>\n",
       "      <td>United States</td>\n",
       "      <td>Los Angeles</td>\n",
       "      <td>California</td>\n",
       "      <td>90036</td>\n",
       "      <td>West</td>\n",
       "      <td>Office Supplies</td>\n",
       "      <td>Labels</td>\n",
       "      <td>14.6200</td>\n",
       "      <td>2</td>\n",
       "      <td>0.00</td>\n",
       "      <td>6.8714</td>\n",
       "    </tr>\n",
       "    <tr>\n",
       "      <th>3</th>\n",
       "      <td>Standard Class</td>\n",
       "      <td>Consumer</td>\n",
       "      <td>United States</td>\n",
       "      <td>Fort Lauderdale</td>\n",
       "      <td>Florida</td>\n",
       "      <td>33311</td>\n",
       "      <td>South</td>\n",
       "      <td>Furniture</td>\n",
       "      <td>Tables</td>\n",
       "      <td>957.5775</td>\n",
       "      <td>5</td>\n",
       "      <td>0.45</td>\n",
       "      <td>-383.0310</td>\n",
       "    </tr>\n",
       "    <tr>\n",
       "      <th>4</th>\n",
       "      <td>Standard Class</td>\n",
       "      <td>Consumer</td>\n",
       "      <td>United States</td>\n",
       "      <td>Fort Lauderdale</td>\n",
       "      <td>Florida</td>\n",
       "      <td>33311</td>\n",
       "      <td>South</td>\n",
       "      <td>Office Supplies</td>\n",
       "      <td>Storage</td>\n",
       "      <td>22.3680</td>\n",
       "      <td>2</td>\n",
       "      <td>0.20</td>\n",
       "      <td>2.5164</td>\n",
       "    </tr>\n",
       "    <tr>\n",
       "      <th>...</th>\n",
       "      <td>...</td>\n",
       "      <td>...</td>\n",
       "      <td>...</td>\n",
       "      <td>...</td>\n",
       "      <td>...</td>\n",
       "      <td>...</td>\n",
       "      <td>...</td>\n",
       "      <td>...</td>\n",
       "      <td>...</td>\n",
       "      <td>...</td>\n",
       "      <td>...</td>\n",
       "      <td>...</td>\n",
       "      <td>...</td>\n",
       "    </tr>\n",
       "    <tr>\n",
       "      <th>9989</th>\n",
       "      <td>Second Class</td>\n",
       "      <td>Consumer</td>\n",
       "      <td>United States</td>\n",
       "      <td>Miami</td>\n",
       "      <td>Florida</td>\n",
       "      <td>33180</td>\n",
       "      <td>South</td>\n",
       "      <td>Furniture</td>\n",
       "      <td>Furnishings</td>\n",
       "      <td>25.2480</td>\n",
       "      <td>3</td>\n",
       "      <td>0.20</td>\n",
       "      <td>4.1028</td>\n",
       "    </tr>\n",
       "    <tr>\n",
       "      <th>9990</th>\n",
       "      <td>Standard Class</td>\n",
       "      <td>Consumer</td>\n",
       "      <td>United States</td>\n",
       "      <td>Costa Mesa</td>\n",
       "      <td>California</td>\n",
       "      <td>92627</td>\n",
       "      <td>West</td>\n",
       "      <td>Furniture</td>\n",
       "      <td>Furnishings</td>\n",
       "      <td>91.9600</td>\n",
       "      <td>2</td>\n",
       "      <td>0.00</td>\n",
       "      <td>15.6332</td>\n",
       "    </tr>\n",
       "    <tr>\n",
       "      <th>9991</th>\n",
       "      <td>Standard Class</td>\n",
       "      <td>Consumer</td>\n",
       "      <td>United States</td>\n",
       "      <td>Costa Mesa</td>\n",
       "      <td>California</td>\n",
       "      <td>92627</td>\n",
       "      <td>West</td>\n",
       "      <td>Technology</td>\n",
       "      <td>Phones</td>\n",
       "      <td>258.5760</td>\n",
       "      <td>2</td>\n",
       "      <td>0.20</td>\n",
       "      <td>19.3932</td>\n",
       "    </tr>\n",
       "    <tr>\n",
       "      <th>9992</th>\n",
       "      <td>Standard Class</td>\n",
       "      <td>Consumer</td>\n",
       "      <td>United States</td>\n",
       "      <td>Costa Mesa</td>\n",
       "      <td>California</td>\n",
       "      <td>92627</td>\n",
       "      <td>West</td>\n",
       "      <td>Office Supplies</td>\n",
       "      <td>Paper</td>\n",
       "      <td>29.6000</td>\n",
       "      <td>4</td>\n",
       "      <td>0.00</td>\n",
       "      <td>13.3200</td>\n",
       "    </tr>\n",
       "    <tr>\n",
       "      <th>9993</th>\n",
       "      <td>Second Class</td>\n",
       "      <td>Consumer</td>\n",
       "      <td>United States</td>\n",
       "      <td>Westminster</td>\n",
       "      <td>California</td>\n",
       "      <td>92683</td>\n",
       "      <td>West</td>\n",
       "      <td>Office Supplies</td>\n",
       "      <td>Appliances</td>\n",
       "      <td>243.1600</td>\n",
       "      <td>2</td>\n",
       "      <td>0.00</td>\n",
       "      <td>72.9480</td>\n",
       "    </tr>\n",
       "  </tbody>\n",
       "</table>\n",
       "<p>9994 rows × 13 columns</p>\n",
       "</div>"
      ],
      "text/plain": [
       "           Ship Mode    Segment        Country             City       State  \\\n",
       "0       Second Class   Consumer  United States        Henderson    Kentucky   \n",
       "1       Second Class   Consumer  United States        Henderson    Kentucky   \n",
       "2       Second Class  Corporate  United States      Los Angeles  California   \n",
       "3     Standard Class   Consumer  United States  Fort Lauderdale     Florida   \n",
       "4     Standard Class   Consumer  United States  Fort Lauderdale     Florida   \n",
       "...              ...        ...            ...              ...         ...   \n",
       "9989    Second Class   Consumer  United States            Miami     Florida   \n",
       "9990  Standard Class   Consumer  United States       Costa Mesa  California   \n",
       "9991  Standard Class   Consumer  United States       Costa Mesa  California   \n",
       "9992  Standard Class   Consumer  United States       Costa Mesa  California   \n",
       "9993    Second Class   Consumer  United States      Westminster  California   \n",
       "\n",
       "      Postal Code Region         Category Sub-Category     Sales  Quantity  \\\n",
       "0           42420  South        Furniture    Bookcases  261.9600         2   \n",
       "1           42420  South        Furniture       Chairs  731.9400         3   \n",
       "2           90036   West  Office Supplies       Labels   14.6200         2   \n",
       "3           33311  South        Furniture       Tables  957.5775         5   \n",
       "4           33311  South  Office Supplies      Storage   22.3680         2   \n",
       "...           ...    ...              ...          ...       ...       ...   \n",
       "9989        33180  South        Furniture  Furnishings   25.2480         3   \n",
       "9990        92627   West        Furniture  Furnishings   91.9600         2   \n",
       "9991        92627   West       Technology       Phones  258.5760         2   \n",
       "9992        92627   West  Office Supplies        Paper   29.6000         4   \n",
       "9993        92683   West  Office Supplies   Appliances  243.1600         2   \n",
       "\n",
       "      Discount    Profit  \n",
       "0         0.00   41.9136  \n",
       "1         0.00  219.5820  \n",
       "2         0.00    6.8714  \n",
       "3         0.45 -383.0310  \n",
       "4         0.20    2.5164  \n",
       "...        ...       ...  \n",
       "9989      0.20    4.1028  \n",
       "9990      0.00   15.6332  \n",
       "9991      0.20   19.3932  \n",
       "9992      0.00   13.3200  \n",
       "9993      0.00   72.9480  \n",
       "\n",
       "[9994 rows x 13 columns]"
      ]
     },
     "execution_count": 3,
     "metadata": {},
     "output_type": "execute_result"
    }
   ],
   "source": [
    "superstore_df"
   ]
  },
  {
   "cell_type": "code",
   "execution_count": 4,
   "id": "5051870d",
   "metadata": {
    "id": "5051870d"
   },
   "outputs": [],
   "source": [
    "copy_df=superstore_df.copy()"
   ]
  },
  {
   "cell_type": "code",
   "execution_count": 5,
   "id": "ed67cc4e",
   "metadata": {
    "id": "ed67cc4e",
    "outputId": "8e5dd81a-d51e-456b-ae6e-aa7881b61503"
   },
   "outputs": [
    {
     "data": {
      "text/html": [
       "<div>\n",
       "<style scoped>\n",
       "    .dataframe tbody tr th:only-of-type {\n",
       "        vertical-align: middle;\n",
       "    }\n",
       "\n",
       "    .dataframe tbody tr th {\n",
       "        vertical-align: top;\n",
       "    }\n",
       "\n",
       "    .dataframe thead th {\n",
       "        text-align: right;\n",
       "    }\n",
       "</style>\n",
       "<table border=\"1\" class=\"dataframe\">\n",
       "  <thead>\n",
       "    <tr style=\"text-align: right;\">\n",
       "      <th></th>\n",
       "      <th>Ship Mode</th>\n",
       "      <th>Segment</th>\n",
       "      <th>Country</th>\n",
       "      <th>City</th>\n",
       "      <th>State</th>\n",
       "      <th>Postal Code</th>\n",
       "      <th>Region</th>\n",
       "      <th>Category</th>\n",
       "      <th>Sub-Category</th>\n",
       "      <th>Sales</th>\n",
       "      <th>Quantity</th>\n",
       "      <th>Discount</th>\n",
       "      <th>Profit</th>\n",
       "    </tr>\n",
       "  </thead>\n",
       "  <tbody>\n",
       "    <tr>\n",
       "      <th>0</th>\n",
       "      <td>Second Class</td>\n",
       "      <td>Consumer</td>\n",
       "      <td>United States</td>\n",
       "      <td>Henderson</td>\n",
       "      <td>Kentucky</td>\n",
       "      <td>42420</td>\n",
       "      <td>South</td>\n",
       "      <td>Furniture</td>\n",
       "      <td>Bookcases</td>\n",
       "      <td>261.9600</td>\n",
       "      <td>2</td>\n",
       "      <td>0.00</td>\n",
       "      <td>41.9136</td>\n",
       "    </tr>\n",
       "    <tr>\n",
       "      <th>1</th>\n",
       "      <td>Second Class</td>\n",
       "      <td>Consumer</td>\n",
       "      <td>United States</td>\n",
       "      <td>Henderson</td>\n",
       "      <td>Kentucky</td>\n",
       "      <td>42420</td>\n",
       "      <td>South</td>\n",
       "      <td>Furniture</td>\n",
       "      <td>Chairs</td>\n",
       "      <td>731.9400</td>\n",
       "      <td>3</td>\n",
       "      <td>0.00</td>\n",
       "      <td>219.5820</td>\n",
       "    </tr>\n",
       "    <tr>\n",
       "      <th>2</th>\n",
       "      <td>Second Class</td>\n",
       "      <td>Corporate</td>\n",
       "      <td>United States</td>\n",
       "      <td>Los Angeles</td>\n",
       "      <td>California</td>\n",
       "      <td>90036</td>\n",
       "      <td>West</td>\n",
       "      <td>Office Supplies</td>\n",
       "      <td>Labels</td>\n",
       "      <td>14.6200</td>\n",
       "      <td>2</td>\n",
       "      <td>0.00</td>\n",
       "      <td>6.8714</td>\n",
       "    </tr>\n",
       "    <tr>\n",
       "      <th>3</th>\n",
       "      <td>Standard Class</td>\n",
       "      <td>Consumer</td>\n",
       "      <td>United States</td>\n",
       "      <td>Fort Lauderdale</td>\n",
       "      <td>Florida</td>\n",
       "      <td>33311</td>\n",
       "      <td>South</td>\n",
       "      <td>Furniture</td>\n",
       "      <td>Tables</td>\n",
       "      <td>957.5775</td>\n",
       "      <td>5</td>\n",
       "      <td>0.45</td>\n",
       "      <td>-383.0310</td>\n",
       "    </tr>\n",
       "    <tr>\n",
       "      <th>4</th>\n",
       "      <td>Standard Class</td>\n",
       "      <td>Consumer</td>\n",
       "      <td>United States</td>\n",
       "      <td>Fort Lauderdale</td>\n",
       "      <td>Florida</td>\n",
       "      <td>33311</td>\n",
       "      <td>South</td>\n",
       "      <td>Office Supplies</td>\n",
       "      <td>Storage</td>\n",
       "      <td>22.3680</td>\n",
       "      <td>2</td>\n",
       "      <td>0.20</td>\n",
       "      <td>2.5164</td>\n",
       "    </tr>\n",
       "    <tr>\n",
       "      <th>...</th>\n",
       "      <td>...</td>\n",
       "      <td>...</td>\n",
       "      <td>...</td>\n",
       "      <td>...</td>\n",
       "      <td>...</td>\n",
       "      <td>...</td>\n",
       "      <td>...</td>\n",
       "      <td>...</td>\n",
       "      <td>...</td>\n",
       "      <td>...</td>\n",
       "      <td>...</td>\n",
       "      <td>...</td>\n",
       "      <td>...</td>\n",
       "    </tr>\n",
       "    <tr>\n",
       "      <th>9989</th>\n",
       "      <td>Second Class</td>\n",
       "      <td>Consumer</td>\n",
       "      <td>United States</td>\n",
       "      <td>Miami</td>\n",
       "      <td>Florida</td>\n",
       "      <td>33180</td>\n",
       "      <td>South</td>\n",
       "      <td>Furniture</td>\n",
       "      <td>Furnishings</td>\n",
       "      <td>25.2480</td>\n",
       "      <td>3</td>\n",
       "      <td>0.20</td>\n",
       "      <td>4.1028</td>\n",
       "    </tr>\n",
       "    <tr>\n",
       "      <th>9990</th>\n",
       "      <td>Standard Class</td>\n",
       "      <td>Consumer</td>\n",
       "      <td>United States</td>\n",
       "      <td>Costa Mesa</td>\n",
       "      <td>California</td>\n",
       "      <td>92627</td>\n",
       "      <td>West</td>\n",
       "      <td>Furniture</td>\n",
       "      <td>Furnishings</td>\n",
       "      <td>91.9600</td>\n",
       "      <td>2</td>\n",
       "      <td>0.00</td>\n",
       "      <td>15.6332</td>\n",
       "    </tr>\n",
       "    <tr>\n",
       "      <th>9991</th>\n",
       "      <td>Standard Class</td>\n",
       "      <td>Consumer</td>\n",
       "      <td>United States</td>\n",
       "      <td>Costa Mesa</td>\n",
       "      <td>California</td>\n",
       "      <td>92627</td>\n",
       "      <td>West</td>\n",
       "      <td>Technology</td>\n",
       "      <td>Phones</td>\n",
       "      <td>258.5760</td>\n",
       "      <td>2</td>\n",
       "      <td>0.20</td>\n",
       "      <td>19.3932</td>\n",
       "    </tr>\n",
       "    <tr>\n",
       "      <th>9992</th>\n",
       "      <td>Standard Class</td>\n",
       "      <td>Consumer</td>\n",
       "      <td>United States</td>\n",
       "      <td>Costa Mesa</td>\n",
       "      <td>California</td>\n",
       "      <td>92627</td>\n",
       "      <td>West</td>\n",
       "      <td>Office Supplies</td>\n",
       "      <td>Paper</td>\n",
       "      <td>29.6000</td>\n",
       "      <td>4</td>\n",
       "      <td>0.00</td>\n",
       "      <td>13.3200</td>\n",
       "    </tr>\n",
       "    <tr>\n",
       "      <th>9993</th>\n",
       "      <td>Second Class</td>\n",
       "      <td>Consumer</td>\n",
       "      <td>United States</td>\n",
       "      <td>Westminster</td>\n",
       "      <td>California</td>\n",
       "      <td>92683</td>\n",
       "      <td>West</td>\n",
       "      <td>Office Supplies</td>\n",
       "      <td>Appliances</td>\n",
       "      <td>243.1600</td>\n",
       "      <td>2</td>\n",
       "      <td>0.00</td>\n",
       "      <td>72.9480</td>\n",
       "    </tr>\n",
       "  </tbody>\n",
       "</table>\n",
       "<p>9994 rows × 13 columns</p>\n",
       "</div>"
      ],
      "text/plain": [
       "           Ship Mode    Segment        Country             City       State  \\\n",
       "0       Second Class   Consumer  United States        Henderson    Kentucky   \n",
       "1       Second Class   Consumer  United States        Henderson    Kentucky   \n",
       "2       Second Class  Corporate  United States      Los Angeles  California   \n",
       "3     Standard Class   Consumer  United States  Fort Lauderdale     Florida   \n",
       "4     Standard Class   Consumer  United States  Fort Lauderdale     Florida   \n",
       "...              ...        ...            ...              ...         ...   \n",
       "9989    Second Class   Consumer  United States            Miami     Florida   \n",
       "9990  Standard Class   Consumer  United States       Costa Mesa  California   \n",
       "9991  Standard Class   Consumer  United States       Costa Mesa  California   \n",
       "9992  Standard Class   Consumer  United States       Costa Mesa  California   \n",
       "9993    Second Class   Consumer  United States      Westminster  California   \n",
       "\n",
       "      Postal Code Region         Category Sub-Category     Sales  Quantity  \\\n",
       "0           42420  South        Furniture    Bookcases  261.9600         2   \n",
       "1           42420  South        Furniture       Chairs  731.9400         3   \n",
       "2           90036   West  Office Supplies       Labels   14.6200         2   \n",
       "3           33311  South        Furniture       Tables  957.5775         5   \n",
       "4           33311  South  Office Supplies      Storage   22.3680         2   \n",
       "...           ...    ...              ...          ...       ...       ...   \n",
       "9989        33180  South        Furniture  Furnishings   25.2480         3   \n",
       "9990        92627   West        Furniture  Furnishings   91.9600         2   \n",
       "9991        92627   West       Technology       Phones  258.5760         2   \n",
       "9992        92627   West  Office Supplies        Paper   29.6000         4   \n",
       "9993        92683   West  Office Supplies   Appliances  243.1600         2   \n",
       "\n",
       "      Discount    Profit  \n",
       "0         0.00   41.9136  \n",
       "1         0.00  219.5820  \n",
       "2         0.00    6.8714  \n",
       "3         0.45 -383.0310  \n",
       "4         0.20    2.5164  \n",
       "...        ...       ...  \n",
       "9989      0.20    4.1028  \n",
       "9990      0.00   15.6332  \n",
       "9991      0.20   19.3932  \n",
       "9992      0.00   13.3200  \n",
       "9993      0.00   72.9480  \n",
       "\n",
       "[9994 rows x 13 columns]"
      ]
     },
     "execution_count": 5,
     "metadata": {},
     "output_type": "execute_result"
    }
   ],
   "source": [
    "copy_df"
   ]
  },
  {
   "cell_type": "code",
   "execution_count": 6,
   "id": "334e8c12",
   "metadata": {
    "id": "334e8c12",
    "outputId": "9a714c38-9444-49c4-8245-9ccdfd18b25a"
   },
   "outputs": [
    {
     "data": {
      "text/html": [
       "<div>\n",
       "<style scoped>\n",
       "    .dataframe tbody tr th:only-of-type {\n",
       "        vertical-align: middle;\n",
       "    }\n",
       "\n",
       "    .dataframe tbody tr th {\n",
       "        vertical-align: top;\n",
       "    }\n",
       "\n",
       "    .dataframe thead th {\n",
       "        text-align: right;\n",
       "    }\n",
       "</style>\n",
       "<table border=\"1\" class=\"dataframe\">\n",
       "  <thead>\n",
       "    <tr style=\"text-align: right;\">\n",
       "      <th></th>\n",
       "      <th>Ship Mode</th>\n",
       "      <th>Segment</th>\n",
       "      <th>Country</th>\n",
       "      <th>City</th>\n",
       "      <th>State</th>\n",
       "      <th>Postal Code</th>\n",
       "      <th>Region</th>\n",
       "      <th>Category</th>\n",
       "      <th>Sub-Category</th>\n",
       "      <th>Sales</th>\n",
       "      <th>Quantity</th>\n",
       "      <th>Discount</th>\n",
       "      <th>Profit</th>\n",
       "    </tr>\n",
       "  </thead>\n",
       "  <tbody>\n",
       "    <tr>\n",
       "      <th>0</th>\n",
       "      <td>Second Class</td>\n",
       "      <td>Consumer</td>\n",
       "      <td>United States</td>\n",
       "      <td>Henderson</td>\n",
       "      <td>Kentucky</td>\n",
       "      <td>42420</td>\n",
       "      <td>South</td>\n",
       "      <td>Furniture</td>\n",
       "      <td>Bookcases</td>\n",
       "      <td>261.9600</td>\n",
       "      <td>2</td>\n",
       "      <td>0.00</td>\n",
       "      <td>41.9136</td>\n",
       "    </tr>\n",
       "    <tr>\n",
       "      <th>1</th>\n",
       "      <td>Second Class</td>\n",
       "      <td>Consumer</td>\n",
       "      <td>United States</td>\n",
       "      <td>Henderson</td>\n",
       "      <td>Kentucky</td>\n",
       "      <td>42420</td>\n",
       "      <td>South</td>\n",
       "      <td>Furniture</td>\n",
       "      <td>Chairs</td>\n",
       "      <td>731.9400</td>\n",
       "      <td>3</td>\n",
       "      <td>0.00</td>\n",
       "      <td>219.5820</td>\n",
       "    </tr>\n",
       "    <tr>\n",
       "      <th>2</th>\n",
       "      <td>Second Class</td>\n",
       "      <td>Corporate</td>\n",
       "      <td>United States</td>\n",
       "      <td>Los Angeles</td>\n",
       "      <td>California</td>\n",
       "      <td>90036</td>\n",
       "      <td>West</td>\n",
       "      <td>Office Supplies</td>\n",
       "      <td>Labels</td>\n",
       "      <td>14.6200</td>\n",
       "      <td>2</td>\n",
       "      <td>0.00</td>\n",
       "      <td>6.8714</td>\n",
       "    </tr>\n",
       "    <tr>\n",
       "      <th>3</th>\n",
       "      <td>Standard Class</td>\n",
       "      <td>Consumer</td>\n",
       "      <td>United States</td>\n",
       "      <td>Fort Lauderdale</td>\n",
       "      <td>Florida</td>\n",
       "      <td>33311</td>\n",
       "      <td>South</td>\n",
       "      <td>Furniture</td>\n",
       "      <td>Tables</td>\n",
       "      <td>957.5775</td>\n",
       "      <td>5</td>\n",
       "      <td>0.45</td>\n",
       "      <td>-383.0310</td>\n",
       "    </tr>\n",
       "    <tr>\n",
       "      <th>4</th>\n",
       "      <td>Standard Class</td>\n",
       "      <td>Consumer</td>\n",
       "      <td>United States</td>\n",
       "      <td>Fort Lauderdale</td>\n",
       "      <td>Florida</td>\n",
       "      <td>33311</td>\n",
       "      <td>South</td>\n",
       "      <td>Office Supplies</td>\n",
       "      <td>Storage</td>\n",
       "      <td>22.3680</td>\n",
       "      <td>2</td>\n",
       "      <td>0.20</td>\n",
       "      <td>2.5164</td>\n",
       "    </tr>\n",
       "  </tbody>\n",
       "</table>\n",
       "</div>"
      ],
      "text/plain": [
       "        Ship Mode    Segment        Country             City       State  \\\n",
       "0    Second Class   Consumer  United States        Henderson    Kentucky   \n",
       "1    Second Class   Consumer  United States        Henderson    Kentucky   \n",
       "2    Second Class  Corporate  United States      Los Angeles  California   \n",
       "3  Standard Class   Consumer  United States  Fort Lauderdale     Florida   \n",
       "4  Standard Class   Consumer  United States  Fort Lauderdale     Florida   \n",
       "\n",
       "   Postal Code Region         Category Sub-Category     Sales  Quantity  \\\n",
       "0        42420  South        Furniture    Bookcases  261.9600         2   \n",
       "1        42420  South        Furniture       Chairs  731.9400         3   \n",
       "2        90036   West  Office Supplies       Labels   14.6200         2   \n",
       "3        33311  South        Furniture       Tables  957.5775         5   \n",
       "4        33311  South  Office Supplies      Storage   22.3680         2   \n",
       "\n",
       "   Discount    Profit  \n",
       "0      0.00   41.9136  \n",
       "1      0.00  219.5820  \n",
       "2      0.00    6.8714  \n",
       "3      0.45 -383.0310  \n",
       "4      0.20    2.5164  "
      ]
     },
     "execution_count": 6,
     "metadata": {},
     "output_type": "execute_result"
    }
   ],
   "source": [
    "#Let's see the first 5 rows of our dataset\n",
    "superstore_df.head()"
   ]
  },
  {
   "cell_type": "code",
   "execution_count": 7,
   "id": "89652586",
   "metadata": {
    "id": "89652586",
    "outputId": "48e20b4b-f7d5-48e6-9f60-6baedf4ca26a"
   },
   "outputs": [
    {
     "data": {
      "text/plain": [
       "(9994, 13)"
      ]
     },
     "execution_count": 7,
     "metadata": {},
     "output_type": "execute_result"
    }
   ],
   "source": [
    "superstore_df.shape"
   ]
  },
  {
   "cell_type": "markdown",
   "id": "750e1e43",
   "metadata": {
    "id": "750e1e43"
   },
   "source": [
    "In this dataframe there are 9994 rows and 13 columns"
   ]
  },
  {
   "cell_type": "code",
   "execution_count": 8,
   "id": "27f9a1b4",
   "metadata": {
    "id": "27f9a1b4",
    "outputId": "0a28d425-76c6-455a-9bc5-3df7f18a1d14"
   },
   "outputs": [
    {
     "data": {
      "text/plain": [
       "Index(['Ship Mode', 'Segment', 'Country', 'City', 'State', 'Postal Code',\n",
       "       'Region', 'Category', 'Sub-Category', 'Sales', 'Quantity', 'Discount',\n",
       "       'Profit'],\n",
       "      dtype='object')"
      ]
     },
     "execution_count": 8,
     "metadata": {},
     "output_type": "execute_result"
    }
   ],
   "source": [
    "superstore_df.columns"
   ]
  },
  {
   "cell_type": "markdown",
   "id": "a6feb760",
   "metadata": {
    "id": "a6feb760"
   },
   "source": [
    "These are the different attributes in dataset"
   ]
  },
  {
   "cell_type": "code",
   "execution_count": 9,
   "id": "907b4b86",
   "metadata": {
    "id": "907b4b86",
    "outputId": "e08341c7-b1ef-4154-ce9c-0560ffd95cb5"
   },
   "outputs": [
    {
     "name": "stdout",
     "output_type": "stream",
     "text": [
      "<class 'pandas.core.frame.DataFrame'>\n",
      "RangeIndex: 9994 entries, 0 to 9993\n",
      "Data columns (total 13 columns):\n",
      " #   Column        Non-Null Count  Dtype  \n",
      "---  ------        --------------  -----  \n",
      " 0   Ship Mode     9994 non-null   object \n",
      " 1   Segment       9994 non-null   object \n",
      " 2   Country       9994 non-null   object \n",
      " 3   City          9994 non-null   object \n",
      " 4   State         9994 non-null   object \n",
      " 5   Postal Code   9994 non-null   int64  \n",
      " 6   Region        9994 non-null   object \n",
      " 7   Category      9994 non-null   object \n",
      " 8   Sub-Category  9994 non-null   object \n",
      " 9   Sales         9994 non-null   float64\n",
      " 10  Quantity      9994 non-null   int64  \n",
      " 11  Discount      9994 non-null   float64\n",
      " 12  Profit        9994 non-null   float64\n",
      "dtypes: float64(3), int64(2), object(8)\n",
      "memory usage: 1015.1+ KB\n"
     ]
    }
   ],
   "source": [
    "superstore_df.info()"
   ]
  },
  {
   "cell_type": "code",
   "execution_count": 10,
   "id": "b62ea111",
   "metadata": {
    "id": "b62ea111",
    "outputId": "a873e213-efec-4d88-f152-ed5490c62cb2"
   },
   "outputs": [
    {
     "data": {
      "text/plain": [
       "Ship Mode       0\n",
       "Segment         0\n",
       "Country         0\n",
       "City            0\n",
       "State           0\n",
       "Postal Code     0\n",
       "Region          0\n",
       "Category        0\n",
       "Sub-Category    0\n",
       "Sales           0\n",
       "Quantity        0\n",
       "Discount        0\n",
       "Profit          0\n",
       "dtype: int64"
      ]
     },
     "execution_count": 10,
     "metadata": {},
     "output_type": "execute_result"
    }
   ],
   "source": [
    "superstore_df.isnull().sum()"
   ]
  },
  {
   "cell_type": "markdown",
   "id": "d71558d2",
   "metadata": {
    "id": "d71558d2"
   },
   "source": [
    "There are no null values over entire data."
   ]
  },
  {
   "cell_type": "code",
   "execution_count": 11,
   "id": "d6349914",
   "metadata": {
    "id": "d6349914",
    "outputId": "ff175ca0-10ba-4ca0-fa30-9e2bbdf3f81d"
   },
   "outputs": [
    {
     "name": "stdout",
     "output_type": "stream",
     "text": [
      "['Furniture' 'Office Supplies' 'Technology']\n"
     ]
    }
   ],
   "source": [
    "print(superstore_df['Category'].unique())"
   ]
  },
  {
   "cell_type": "code",
   "execution_count": 12,
   "id": "16019c0a",
   "metadata": {
    "id": "16019c0a",
    "outputId": "bb24623e-9776-4726-b130-679dc6713c17"
   },
   "outputs": [
    {
     "name": "stdout",
     "output_type": "stream",
     "text": [
      "['Kentucky' 'California' 'Florida' 'North Carolina' 'Washington' 'Texas'\n",
      " 'Wisconsin' 'Utah' 'Nebraska' 'Pennsylvania' 'Illinois' 'Minnesota'\n",
      " 'Michigan' 'Delaware' 'Indiana' 'New York' 'Arizona' 'Virginia'\n",
      " 'Tennessee' 'Alabama' 'South Carolina' 'Oregon' 'Colorado' 'Iowa' 'Ohio'\n",
      " 'Missouri' 'Oklahoma' 'New Mexico' 'Louisiana' 'Connecticut' 'New Jersey'\n",
      " 'Massachusetts' 'Georgia' 'Nevada' 'Rhode Island' 'Mississippi'\n",
      " 'Arkansas' 'Montana' 'New Hampshire' 'Maryland' 'District of Columbia'\n",
      " 'Kansas' 'Vermont' 'Maine' 'South Dakota' 'Idaho' 'North Dakota'\n",
      " 'Wyoming' 'West Virginia']\n"
     ]
    }
   ],
   "source": [
    "print(superstore_df['State'].unique())"
   ]
  },
  {
   "cell_type": "code",
   "execution_count": 13,
   "id": "2c5dedb6",
   "metadata": {
    "id": "2c5dedb6",
    "outputId": "16cf00b5-8625-4fbb-d740-ca6c89fec823"
   },
   "outputs": [
    {
     "name": "stdout",
     "output_type": "stream",
     "text": [
      "There are 49 States in this df.\n"
     ]
    }
   ],
   "source": [
    "no_of_states=superstore_df['State'].nunique()\n",
    "print(\"There are %d States in this df.\"%no_of_states)"
   ]
  },
  {
   "cell_type": "code",
   "execution_count": 14,
   "id": "0c0a684e",
   "metadata": {
    "id": "0c0a684e",
    "outputId": "03910556-5511-4357-f692-75e7f89c282d"
   },
   "outputs": [
    {
     "name": "stdout",
     "output_type": "stream",
     "text": [
      "['Bookcases' 'Chairs' 'Labels' 'Tables' 'Storage' 'Furnishings' 'Art'\n",
      " 'Phones' 'Binders' 'Appliances' 'Paper' 'Accessories' 'Envelopes'\n",
      " 'Fasteners' 'Supplies' 'Machines' 'Copiers']\n"
     ]
    }
   ],
   "source": [
    "print(superstore_df['Sub-Category'].unique())"
   ]
  },
  {
   "cell_type": "code",
   "execution_count": 15,
   "id": "47a7f258",
   "metadata": {
    "id": "47a7f258",
    "outputId": "2fa4a8cf-0f62-4ab2-f4a4-f0697534f7aa"
   },
   "outputs": [
    {
     "name": "stdout",
     "output_type": "stream",
     "text": [
      "Categories are divided into 17 sub categories\n"
     ]
    }
   ],
   "source": [
    "no_of_subcategory=superstore_df['Sub-Category'].nunique()\n",
    "print(\"Categories are divided into %d sub categories\"%no_of_subcategory)"
   ]
  },
  {
   "cell_type": "code",
   "execution_count": 16,
   "id": "7522401d",
   "metadata": {
    "id": "7522401d",
    "outputId": "66a8e88b-aefa-4a40-d41b-32bfe55c9cd2"
   },
   "outputs": [
    {
     "data": {
      "text/plain": [
       "New York City      915\n",
       "Los Angeles        747\n",
       "Philadelphia       537\n",
       "San Francisco      510\n",
       "Seattle            428\n",
       "                  ... \n",
       "Glenview             1\n",
       "Missouri City        1\n",
       "Rochester Hills      1\n",
       "Palatine             1\n",
       "Manhattan            1\n",
       "Name: City, Length: 531, dtype: int64"
      ]
     },
     "execution_count": 16,
     "metadata": {},
     "output_type": "execute_result"
    }
   ],
   "source": [
    "superstore_df['City'].value_counts()"
   ]
  },
  {
   "cell_type": "code",
   "execution_count": 17,
   "id": "e8320b87",
   "metadata": {
    "id": "e8320b87",
    "outputId": "b6b634b8-6be9-4f90-8a7d-48800101ac27"
   },
   "outputs": [
    {
     "data": {
      "text/plain": [
       "California              2001\n",
       "New York                1128\n",
       "Texas                    985\n",
       "Pennsylvania             587\n",
       "Washington               506\n",
       "Illinois                 492\n",
       "Ohio                     469\n",
       "Florida                  383\n",
       "Michigan                 255\n",
       "North Carolina           249\n",
       "Arizona                  224\n",
       "Virginia                 224\n",
       "Georgia                  184\n",
       "Tennessee                183\n",
       "Colorado                 182\n",
       "Indiana                  149\n",
       "Kentucky                 139\n",
       "Massachusetts            135\n",
       "New Jersey               130\n",
       "Oregon                   124\n",
       "Wisconsin                110\n",
       "Maryland                 105\n",
       "Delaware                  96\n",
       "Minnesota                 89\n",
       "Connecticut               82\n",
       "Oklahoma                  66\n",
       "Missouri                  66\n",
       "Alabama                   61\n",
       "Arkansas                  60\n",
       "Rhode Island              56\n",
       "Utah                      53\n",
       "Mississippi               53\n",
       "Louisiana                 42\n",
       "South Carolina            42\n",
       "Nevada                    39\n",
       "Nebraska                  38\n",
       "New Mexico                37\n",
       "Iowa                      30\n",
       "New Hampshire             27\n",
       "Kansas                    24\n",
       "Idaho                     21\n",
       "Montana                   15\n",
       "South Dakota              12\n",
       "Vermont                   11\n",
       "District of Columbia      10\n",
       "Maine                      8\n",
       "North Dakota               7\n",
       "West Virginia              4\n",
       "Wyoming                    1\n",
       "Name: State, dtype: int64"
      ]
     },
     "execution_count": 17,
     "metadata": {},
     "output_type": "execute_result"
    }
   ],
   "source": [
    "superstore_df['State'].value_counts()"
   ]
  },
  {
   "cell_type": "code",
   "execution_count": 18,
   "id": "a9b168d4",
   "metadata": {
    "id": "a9b168d4",
    "outputId": "dafdbe06-698b-4410-baf4-deab5d0b46fe"
   },
   "outputs": [
    {
     "data": {
      "text/plain": [
       "West       3203\n",
       "East       2848\n",
       "Central    2323\n",
       "South      1620\n",
       "Name: Region, dtype: int64"
      ]
     },
     "execution_count": 18,
     "metadata": {},
     "output_type": "execute_result"
    }
   ],
   "source": [
    "superstore_df['Region'].value_counts()"
   ]
  },
  {
   "cell_type": "code",
   "execution_count": 19,
   "id": "7f64cc5b",
   "metadata": {
    "id": "7f64cc5b",
    "outputId": "837c5b2e-bf63-4f7e-8436-a4d1a69da99c"
   },
   "outputs": [
    {
     "data": {
      "text/plain": [
       "Office Supplies    6026\n",
       "Furniture          2121\n",
       "Technology         1847\n",
       "Name: Category, dtype: int64"
      ]
     },
     "execution_count": 19,
     "metadata": {},
     "output_type": "execute_result"
    }
   ],
   "source": [
    "superstore_df['Category'].value_counts()"
   ]
  },
  {
   "cell_type": "code",
   "execution_count": 20,
   "id": "c77b6e42",
   "metadata": {
    "id": "c77b6e42",
    "outputId": "1051305e-c85c-4aa6-ec82-fbe1bc34cc9a"
   },
   "outputs": [
    {
     "data": {
      "text/plain": [
       "Binders        1523\n",
       "Paper          1370\n",
       "Furnishings     957\n",
       "Phones          889\n",
       "Storage         846\n",
       "Art             796\n",
       "Accessories     775\n",
       "Chairs          617\n",
       "Appliances      466\n",
       "Labels          364\n",
       "Tables          319\n",
       "Envelopes       254\n",
       "Bookcases       228\n",
       "Fasteners       217\n",
       "Supplies        190\n",
       "Machines        115\n",
       "Copiers          68\n",
       "Name: Sub-Category, dtype: int64"
      ]
     },
     "execution_count": 20,
     "metadata": {},
     "output_type": "execute_result"
    }
   ],
   "source": [
    "superstore_df['Sub-Category'].value_counts()"
   ]
  },
  {
   "cell_type": "code",
   "execution_count": 21,
   "id": "7a25db59",
   "metadata": {
    "id": "7a25db59",
    "outputId": "e7cc1fa9-a595-4f14-b189-71825df11e4c"
   },
   "outputs": [
    {
     "data": {
      "text/plain": [
       "Consumer       5191\n",
       "Corporate      3020\n",
       "Home Office    1783\n",
       "Name: Segment, dtype: int64"
      ]
     },
     "execution_count": 21,
     "metadata": {},
     "output_type": "execute_result"
    }
   ],
   "source": [
    "superstore_df['Segment'].value_counts()"
   ]
  },
  {
   "cell_type": "code",
   "execution_count": 22,
   "id": "d195070a",
   "metadata": {
    "id": "d195070a",
    "outputId": "8151467a-f654-4f2f-a553-c646490bd371"
   },
   "outputs": [
    {
     "data": {
      "text/html": [
       "<div>\n",
       "<style scoped>\n",
       "    .dataframe tbody tr th:only-of-type {\n",
       "        vertical-align: middle;\n",
       "    }\n",
       "\n",
       "    .dataframe tbody tr th {\n",
       "        vertical-align: top;\n",
       "    }\n",
       "\n",
       "    .dataframe thead th {\n",
       "        text-align: right;\n",
       "    }\n",
       "</style>\n",
       "<table border=\"1\" class=\"dataframe\">\n",
       "  <thead>\n",
       "    <tr style=\"text-align: right;\">\n",
       "      <th></th>\n",
       "      <th>Postal Code</th>\n",
       "      <th>Sales</th>\n",
       "      <th>Quantity</th>\n",
       "      <th>Discount</th>\n",
       "      <th>Profit</th>\n",
       "    </tr>\n",
       "  </thead>\n",
       "  <tbody>\n",
       "    <tr>\n",
       "      <th>count</th>\n",
       "      <td>9994.000000</td>\n",
       "      <td>9994.000000</td>\n",
       "      <td>9994.000000</td>\n",
       "      <td>9994.000000</td>\n",
       "      <td>9994.000000</td>\n",
       "    </tr>\n",
       "    <tr>\n",
       "      <th>mean</th>\n",
       "      <td>55190.379428</td>\n",
       "      <td>229.858001</td>\n",
       "      <td>3.789574</td>\n",
       "      <td>0.156203</td>\n",
       "      <td>28.656896</td>\n",
       "    </tr>\n",
       "    <tr>\n",
       "      <th>std</th>\n",
       "      <td>32063.693350</td>\n",
       "      <td>623.245101</td>\n",
       "      <td>2.225110</td>\n",
       "      <td>0.206452</td>\n",
       "      <td>234.260108</td>\n",
       "    </tr>\n",
       "    <tr>\n",
       "      <th>min</th>\n",
       "      <td>1040.000000</td>\n",
       "      <td>0.444000</td>\n",
       "      <td>1.000000</td>\n",
       "      <td>0.000000</td>\n",
       "      <td>-6599.978000</td>\n",
       "    </tr>\n",
       "    <tr>\n",
       "      <th>25%</th>\n",
       "      <td>23223.000000</td>\n",
       "      <td>17.280000</td>\n",
       "      <td>2.000000</td>\n",
       "      <td>0.000000</td>\n",
       "      <td>1.728750</td>\n",
       "    </tr>\n",
       "    <tr>\n",
       "      <th>50%</th>\n",
       "      <td>56430.500000</td>\n",
       "      <td>54.490000</td>\n",
       "      <td>3.000000</td>\n",
       "      <td>0.200000</td>\n",
       "      <td>8.666500</td>\n",
       "    </tr>\n",
       "    <tr>\n",
       "      <th>75%</th>\n",
       "      <td>90008.000000</td>\n",
       "      <td>209.940000</td>\n",
       "      <td>5.000000</td>\n",
       "      <td>0.200000</td>\n",
       "      <td>29.364000</td>\n",
       "    </tr>\n",
       "    <tr>\n",
       "      <th>max</th>\n",
       "      <td>99301.000000</td>\n",
       "      <td>22638.480000</td>\n",
       "      <td>14.000000</td>\n",
       "      <td>0.800000</td>\n",
       "      <td>8399.976000</td>\n",
       "    </tr>\n",
       "  </tbody>\n",
       "</table>\n",
       "</div>"
      ],
      "text/plain": [
       "        Postal Code         Sales     Quantity     Discount       Profit\n",
       "count   9994.000000   9994.000000  9994.000000  9994.000000  9994.000000\n",
       "mean   55190.379428    229.858001     3.789574     0.156203    28.656896\n",
       "std    32063.693350    623.245101     2.225110     0.206452   234.260108\n",
       "min     1040.000000      0.444000     1.000000     0.000000 -6599.978000\n",
       "25%    23223.000000     17.280000     2.000000     0.000000     1.728750\n",
       "50%    56430.500000     54.490000     3.000000     0.200000     8.666500\n",
       "75%    90008.000000    209.940000     5.000000     0.200000    29.364000\n",
       "max    99301.000000  22638.480000    14.000000     0.800000  8399.976000"
      ]
     },
     "execution_count": 22,
     "metadata": {},
     "output_type": "execute_result"
    }
   ],
   "source": [
    "superstore_df.describe()"
   ]
  },
  {
   "cell_type": "markdown",
   "id": "abbd6576",
   "metadata": {
    "id": "abbd6576"
   },
   "source": [
    "### We should split the entire data into categories based on profit and create a new dataframe for the negative-profit categories. This will help us focus on improving those areas."
   ]
  },
  {
   "cell_type": "code",
   "execution_count": 23,
   "id": "1219bea3",
   "metadata": {
    "id": "1219bea3"
   },
   "outputs": [],
   "source": [
    "loss_df=superstore_df[superstore_df['Profit'] < 0]"
   ]
  },
  {
   "cell_type": "code",
   "execution_count": 24,
   "id": "bae72568",
   "metadata": {
    "id": "bae72568",
    "outputId": "e1ae2a27-d4ab-4f77-a291-a86b6e2071bb"
   },
   "outputs": [
    {
     "data": {
      "text/html": [
       "<div>\n",
       "<style scoped>\n",
       "    .dataframe tbody tr th:only-of-type {\n",
       "        vertical-align: middle;\n",
       "    }\n",
       "\n",
       "    .dataframe tbody tr th {\n",
       "        vertical-align: top;\n",
       "    }\n",
       "\n",
       "    .dataframe thead th {\n",
       "        text-align: right;\n",
       "    }\n",
       "</style>\n",
       "<table border=\"1\" class=\"dataframe\">\n",
       "  <thead>\n",
       "    <tr style=\"text-align: right;\">\n",
       "      <th></th>\n",
       "      <th>Ship Mode</th>\n",
       "      <th>Segment</th>\n",
       "      <th>Country</th>\n",
       "      <th>City</th>\n",
       "      <th>State</th>\n",
       "      <th>Postal Code</th>\n",
       "      <th>Region</th>\n",
       "      <th>Category</th>\n",
       "      <th>Sub-Category</th>\n",
       "      <th>Sales</th>\n",
       "      <th>Quantity</th>\n",
       "      <th>Discount</th>\n",
       "      <th>Profit</th>\n",
       "    </tr>\n",
       "  </thead>\n",
       "  <tbody>\n",
       "    <tr>\n",
       "      <th>3</th>\n",
       "      <td>Standard Class</td>\n",
       "      <td>Consumer</td>\n",
       "      <td>United States</td>\n",
       "      <td>Fort Lauderdale</td>\n",
       "      <td>Florida</td>\n",
       "      <td>33311</td>\n",
       "      <td>South</td>\n",
       "      <td>Furniture</td>\n",
       "      <td>Tables</td>\n",
       "      <td>957.5775</td>\n",
       "      <td>5</td>\n",
       "      <td>0.45</td>\n",
       "      <td>-383.0310</td>\n",
       "    </tr>\n",
       "    <tr>\n",
       "      <th>14</th>\n",
       "      <td>Standard Class</td>\n",
       "      <td>Home Office</td>\n",
       "      <td>United States</td>\n",
       "      <td>Fort Worth</td>\n",
       "      <td>Texas</td>\n",
       "      <td>76106</td>\n",
       "      <td>Central</td>\n",
       "      <td>Office Supplies</td>\n",
       "      <td>Appliances</td>\n",
       "      <td>68.8100</td>\n",
       "      <td>5</td>\n",
       "      <td>0.80</td>\n",
       "      <td>-123.8580</td>\n",
       "    </tr>\n",
       "    <tr>\n",
       "      <th>15</th>\n",
       "      <td>Standard Class</td>\n",
       "      <td>Home Office</td>\n",
       "      <td>United States</td>\n",
       "      <td>Fort Worth</td>\n",
       "      <td>Texas</td>\n",
       "      <td>76106</td>\n",
       "      <td>Central</td>\n",
       "      <td>Office Supplies</td>\n",
       "      <td>Binders</td>\n",
       "      <td>2.5440</td>\n",
       "      <td>3</td>\n",
       "      <td>0.80</td>\n",
       "      <td>-3.8160</td>\n",
       "    </tr>\n",
       "    <tr>\n",
       "      <th>23</th>\n",
       "      <td>Second Class</td>\n",
       "      <td>Consumer</td>\n",
       "      <td>United States</td>\n",
       "      <td>Philadelphia</td>\n",
       "      <td>Pennsylvania</td>\n",
       "      <td>19140</td>\n",
       "      <td>East</td>\n",
       "      <td>Furniture</td>\n",
       "      <td>Chairs</td>\n",
       "      <td>71.3720</td>\n",
       "      <td>2</td>\n",
       "      <td>0.30</td>\n",
       "      <td>-1.0196</td>\n",
       "    </tr>\n",
       "    <tr>\n",
       "      <th>27</th>\n",
       "      <td>Standard Class</td>\n",
       "      <td>Consumer</td>\n",
       "      <td>United States</td>\n",
       "      <td>Philadelphia</td>\n",
       "      <td>Pennsylvania</td>\n",
       "      <td>19140</td>\n",
       "      <td>East</td>\n",
       "      <td>Furniture</td>\n",
       "      <td>Bookcases</td>\n",
       "      <td>3083.4300</td>\n",
       "      <td>7</td>\n",
       "      <td>0.50</td>\n",
       "      <td>-1665.0522</td>\n",
       "    </tr>\n",
       "    <tr>\n",
       "      <th>...</th>\n",
       "      <td>...</td>\n",
       "      <td>...</td>\n",
       "      <td>...</td>\n",
       "      <td>...</td>\n",
       "      <td>...</td>\n",
       "      <td>...</td>\n",
       "      <td>...</td>\n",
       "      <td>...</td>\n",
       "      <td>...</td>\n",
       "      <td>...</td>\n",
       "      <td>...</td>\n",
       "      <td>...</td>\n",
       "      <td>...</td>\n",
       "    </tr>\n",
       "    <tr>\n",
       "      <th>9920</th>\n",
       "      <td>Standard Class</td>\n",
       "      <td>Corporate</td>\n",
       "      <td>United States</td>\n",
       "      <td>Bryan</td>\n",
       "      <td>Texas</td>\n",
       "      <td>77803</td>\n",
       "      <td>Central</td>\n",
       "      <td>Office Supplies</td>\n",
       "      <td>Binders</td>\n",
       "      <td>22.3860</td>\n",
       "      <td>7</td>\n",
       "      <td>0.80</td>\n",
       "      <td>-35.8176</td>\n",
       "    </tr>\n",
       "    <tr>\n",
       "      <th>9921</th>\n",
       "      <td>Standard Class</td>\n",
       "      <td>Home Office</td>\n",
       "      <td>United States</td>\n",
       "      <td>Akron</td>\n",
       "      <td>Ohio</td>\n",
       "      <td>44312</td>\n",
       "      <td>East</td>\n",
       "      <td>Office Supplies</td>\n",
       "      <td>Binders</td>\n",
       "      <td>5.7420</td>\n",
       "      <td>3</td>\n",
       "      <td>0.70</td>\n",
       "      <td>-4.5936</td>\n",
       "    </tr>\n",
       "    <tr>\n",
       "      <th>9931</th>\n",
       "      <td>Standard Class</td>\n",
       "      <td>Consumer</td>\n",
       "      <td>United States</td>\n",
       "      <td>San Bernardino</td>\n",
       "      <td>California</td>\n",
       "      <td>92404</td>\n",
       "      <td>West</td>\n",
       "      <td>Furniture</td>\n",
       "      <td>Bookcases</td>\n",
       "      <td>683.3320</td>\n",
       "      <td>4</td>\n",
       "      <td>0.15</td>\n",
       "      <td>-40.1960</td>\n",
       "    </tr>\n",
       "    <tr>\n",
       "      <th>9937</th>\n",
       "      <td>Second Class</td>\n",
       "      <td>Corporate</td>\n",
       "      <td>United States</td>\n",
       "      <td>Los Angeles</td>\n",
       "      <td>California</td>\n",
       "      <td>90049</td>\n",
       "      <td>West</td>\n",
       "      <td>Furniture</td>\n",
       "      <td>Tables</td>\n",
       "      <td>71.0880</td>\n",
       "      <td>2</td>\n",
       "      <td>0.20</td>\n",
       "      <td>-1.7772</td>\n",
       "    </tr>\n",
       "    <tr>\n",
       "      <th>9962</th>\n",
       "      <td>First Class</td>\n",
       "      <td>Home Office</td>\n",
       "      <td>United States</td>\n",
       "      <td>Houston</td>\n",
       "      <td>Texas</td>\n",
       "      <td>77041</td>\n",
       "      <td>Central</td>\n",
       "      <td>Furniture</td>\n",
       "      <td>Bookcases</td>\n",
       "      <td>383.4656</td>\n",
       "      <td>4</td>\n",
       "      <td>0.32</td>\n",
       "      <td>-67.6704</td>\n",
       "    </tr>\n",
       "  </tbody>\n",
       "</table>\n",
       "<p>1871 rows × 13 columns</p>\n",
       "</div>"
      ],
      "text/plain": [
       "           Ship Mode      Segment        Country             City  \\\n",
       "3     Standard Class     Consumer  United States  Fort Lauderdale   \n",
       "14    Standard Class  Home Office  United States       Fort Worth   \n",
       "15    Standard Class  Home Office  United States       Fort Worth   \n",
       "23      Second Class     Consumer  United States     Philadelphia   \n",
       "27    Standard Class     Consumer  United States     Philadelphia   \n",
       "...              ...          ...            ...              ...   \n",
       "9920  Standard Class    Corporate  United States            Bryan   \n",
       "9921  Standard Class  Home Office  United States            Akron   \n",
       "9931  Standard Class     Consumer  United States   San Bernardino   \n",
       "9937    Second Class    Corporate  United States      Los Angeles   \n",
       "9962     First Class  Home Office  United States          Houston   \n",
       "\n",
       "             State  Postal Code   Region         Category Sub-Category  \\\n",
       "3          Florida        33311    South        Furniture       Tables   \n",
       "14           Texas        76106  Central  Office Supplies   Appliances   \n",
       "15           Texas        76106  Central  Office Supplies      Binders   \n",
       "23    Pennsylvania        19140     East        Furniture       Chairs   \n",
       "27    Pennsylvania        19140     East        Furniture    Bookcases   \n",
       "...            ...          ...      ...              ...          ...   \n",
       "9920         Texas        77803  Central  Office Supplies      Binders   \n",
       "9921          Ohio        44312     East  Office Supplies      Binders   \n",
       "9931    California        92404     West        Furniture    Bookcases   \n",
       "9937    California        90049     West        Furniture       Tables   \n",
       "9962         Texas        77041  Central        Furniture    Bookcases   \n",
       "\n",
       "          Sales  Quantity  Discount     Profit  \n",
       "3      957.5775         5      0.45  -383.0310  \n",
       "14      68.8100         5      0.80  -123.8580  \n",
       "15       2.5440         3      0.80    -3.8160  \n",
       "23      71.3720         2      0.30    -1.0196  \n",
       "27    3083.4300         7      0.50 -1665.0522  \n",
       "...         ...       ...       ...        ...  \n",
       "9920    22.3860         7      0.80   -35.8176  \n",
       "9921     5.7420         3      0.70    -4.5936  \n",
       "9931   683.3320         4      0.15   -40.1960  \n",
       "9937    71.0880         2      0.20    -1.7772  \n",
       "9962   383.4656         4      0.32   -67.6704  \n",
       "\n",
       "[1871 rows x 13 columns]"
      ]
     },
     "execution_count": 24,
     "metadata": {},
     "output_type": "execute_result"
    }
   ],
   "source": [
    "loss_df"
   ]
  },
  {
   "cell_type": "code",
   "execution_count": 25,
   "id": "66676c7a",
   "metadata": {
    "id": "66676c7a",
    "outputId": "feeed082-fc65-4ef8-b1ca-59372f80f0e1"
   },
   "outputs": [
    {
     "data": {
      "text/plain": [
       "(1871, 13)"
      ]
     },
     "execution_count": 25,
     "metadata": {},
     "output_type": "execute_result"
    }
   ],
   "source": [
    "loss_df.shape"
   ]
  },
  {
   "cell_type": "markdown",
   "id": "5f6f2708",
   "metadata": {
    "id": "5f6f2708"
   },
   "source": [
    "This loss dataframe contains 1871 rows and 13 columns"
   ]
  },
  {
   "cell_type": "code",
   "execution_count": 26,
   "id": "f5c6d046",
   "metadata": {
    "id": "f5c6d046",
    "outputId": "a228be87-c177-48d7-efda-90c536790dba"
   },
   "outputs": [
    {
     "data": {
      "text/html": [
       "<div>\n",
       "<style scoped>\n",
       "    .dataframe tbody tr th:only-of-type {\n",
       "        vertical-align: middle;\n",
       "    }\n",
       "\n",
       "    .dataframe tbody tr th {\n",
       "        vertical-align: top;\n",
       "    }\n",
       "\n",
       "    .dataframe thead th {\n",
       "        text-align: right;\n",
       "    }\n",
       "</style>\n",
       "<table border=\"1\" class=\"dataframe\">\n",
       "  <thead>\n",
       "    <tr style=\"text-align: right;\">\n",
       "      <th></th>\n",
       "      <th>Postal Code</th>\n",
       "      <th>Sales</th>\n",
       "      <th>Quantity</th>\n",
       "      <th>Discount</th>\n",
       "      <th>Profit</th>\n",
       "    </tr>\n",
       "  </thead>\n",
       "  <tbody>\n",
       "    <tr>\n",
       "      <th>count</th>\n",
       "      <td>1871.000000</td>\n",
       "      <td>1871.000000</td>\n",
       "      <td>1871.000000</td>\n",
       "      <td>1871.000000</td>\n",
       "      <td>1871.000000</td>\n",
       "    </tr>\n",
       "    <tr>\n",
       "      <th>mean</th>\n",
       "      <td>55991.122929</td>\n",
       "      <td>250.511574</td>\n",
       "      <td>3.762694</td>\n",
       "      <td>0.480887</td>\n",
       "      <td>-83.448042</td>\n",
       "    </tr>\n",
       "    <tr>\n",
       "      <th>std</th>\n",
       "      <td>26041.501999</td>\n",
       "      <td>715.067296</td>\n",
       "      <td>2.141347</td>\n",
       "      <td>0.235080</td>\n",
       "      <td>284.423422</td>\n",
       "    </tr>\n",
       "    <tr>\n",
       "      <th>min</th>\n",
       "      <td>1841.000000</td>\n",
       "      <td>0.444000</td>\n",
       "      <td>1.000000</td>\n",
       "      <td>0.100000</td>\n",
       "      <td>-6599.978000</td>\n",
       "    </tr>\n",
       "    <tr>\n",
       "      <th>25%</th>\n",
       "      <td>33024.000000</td>\n",
       "      <td>12.503000</td>\n",
       "      <td>2.000000</td>\n",
       "      <td>0.200000</td>\n",
       "      <td>-58.660950</td>\n",
       "    </tr>\n",
       "    <tr>\n",
       "      <th>50%</th>\n",
       "      <td>60623.000000</td>\n",
       "      <td>71.088000</td>\n",
       "      <td>3.000000</td>\n",
       "      <td>0.400000</td>\n",
       "      <td>-18.088200</td>\n",
       "    </tr>\n",
       "    <tr>\n",
       "      <th>75%</th>\n",
       "      <td>77095.000000</td>\n",
       "      <td>284.922000</td>\n",
       "      <td>5.000000</td>\n",
       "      <td>0.700000</td>\n",
       "      <td>-6.261500</td>\n",
       "    </tr>\n",
       "    <tr>\n",
       "      <th>max</th>\n",
       "      <td>98198.000000</td>\n",
       "      <td>22638.480000</td>\n",
       "      <td>14.000000</td>\n",
       "      <td>0.800000</td>\n",
       "      <td>-0.089500</td>\n",
       "    </tr>\n",
       "  </tbody>\n",
       "</table>\n",
       "</div>"
      ],
      "text/plain": [
       "        Postal Code         Sales     Quantity     Discount       Profit\n",
       "count   1871.000000   1871.000000  1871.000000  1871.000000  1871.000000\n",
       "mean   55991.122929    250.511574     3.762694     0.480887   -83.448042\n",
       "std    26041.501999    715.067296     2.141347     0.235080   284.423422\n",
       "min     1841.000000      0.444000     1.000000     0.100000 -6599.978000\n",
       "25%    33024.000000     12.503000     2.000000     0.200000   -58.660950\n",
       "50%    60623.000000     71.088000     3.000000     0.400000   -18.088200\n",
       "75%    77095.000000    284.922000     5.000000     0.700000    -6.261500\n",
       "max    98198.000000  22638.480000    14.000000     0.800000    -0.089500"
      ]
     },
     "execution_count": 26,
     "metadata": {},
     "output_type": "execute_result"
    }
   ],
   "source": [
    "loss_df.describe()"
   ]
  },
  {
   "cell_type": "code",
   "execution_count": 27,
   "id": "3cd1ed6a",
   "metadata": {
    "id": "3cd1ed6a"
   },
   "outputs": [],
   "source": [
    "Total_loss=np.negative(loss_df['Profit'].sum())"
   ]
  },
  {
   "cell_type": "code",
   "execution_count": 28,
   "id": "9d6e235c",
   "metadata": {
    "id": "9d6e235c",
    "outputId": "7f29bc93-d6de-41a9-b766-150d97b96b69"
   },
   "outputs": [
    {
     "name": "stdout",
     "output_type": "stream",
     "text": [
      "Total loss = 156131.29\n"
     ]
    }
   ],
   "source": [
    "print(\"Total loss = %.2f\" %Total_loss)"
   ]
  },
  {
   "cell_type": "code",
   "execution_count": 29,
   "id": "34f42fe5",
   "metadata": {
    "id": "34f42fe5",
    "outputId": "3128c8e0-58d3-491e-c26c-909df092df3c"
   },
   "outputs": [
    {
     "data": {
      "text/html": [
       "<div>\n",
       "<style scoped>\n",
       "    .dataframe tbody tr th:only-of-type {\n",
       "        vertical-align: middle;\n",
       "    }\n",
       "\n",
       "    .dataframe tbody tr th {\n",
       "        vertical-align: top;\n",
       "    }\n",
       "\n",
       "    .dataframe thead th {\n",
       "        text-align: right;\n",
       "    }\n",
       "</style>\n",
       "<table border=\"1\" class=\"dataframe\">\n",
       "  <thead>\n",
       "    <tr style=\"text-align: right;\">\n",
       "      <th></th>\n",
       "      <th>Postal Code</th>\n",
       "      <th>Sales</th>\n",
       "      <th>Quantity</th>\n",
       "      <th>Discount</th>\n",
       "      <th>Profit</th>\n",
       "    </tr>\n",
       "    <tr>\n",
       "      <th>Segment</th>\n",
       "      <th></th>\n",
       "      <th></th>\n",
       "      <th></th>\n",
       "      <th></th>\n",
       "      <th></th>\n",
       "    </tr>\n",
       "  </thead>\n",
       "  <tbody>\n",
       "    <tr>\n",
       "      <th>Consumer</th>\n",
       "      <td>57202260</td>\n",
       "      <td>247196.2460</td>\n",
       "      <td>3651</td>\n",
       "      <td>476.76</td>\n",
       "      <td>-84945.7112</td>\n",
       "    </tr>\n",
       "    <tr>\n",
       "      <th>Corporate</th>\n",
       "      <td>30034273</td>\n",
       "      <td>131860.5383</td>\n",
       "      <td>2191</td>\n",
       "      <td>272.00</td>\n",
       "      <td>-44787.2076</td>\n",
       "    </tr>\n",
       "    <tr>\n",
       "      <th>Home Office</th>\n",
       "      <td>17522858</td>\n",
       "      <td>89650.3705</td>\n",
       "      <td>1198</td>\n",
       "      <td>150.98</td>\n",
       "      <td>-26398.3669</td>\n",
       "    </tr>\n",
       "  </tbody>\n",
       "</table>\n",
       "</div>"
      ],
      "text/plain": [
       "             Postal Code        Sales  Quantity  Discount      Profit\n",
       "Segment                                                              \n",
       "Consumer        57202260  247196.2460      3651    476.76 -84945.7112\n",
       "Corporate       30034273  131860.5383      2191    272.00 -44787.2076\n",
       "Home Office     17522858   89650.3705      1198    150.98 -26398.3669"
      ]
     },
     "execution_count": 29,
     "metadata": {},
     "output_type": "execute_result"
    }
   ],
   "source": [
    "loss_df.groupby(by='Segment').sum()"
   ]
  },
  {
   "cell_type": "markdown",
   "id": "a8884623",
   "metadata": {
    "id": "a8884623"
   },
   "source": [
    "### Providing less discount leads to higher profits as offering more discounts can result in more loss."
   ]
  },
  {
   "cell_type": "code",
   "execution_count": 30,
   "id": "9a1ad6d2",
   "metadata": {
    "id": "9a1ad6d2",
    "outputId": "af8ec46a-3678-4af1-93d1-d2e02848b45c"
   },
   "outputs": [
    {
     "data": {
      "text/html": [
       "<div>\n",
       "<style scoped>\n",
       "    .dataframe tbody tr th:only-of-type {\n",
       "        vertical-align: middle;\n",
       "    }\n",
       "\n",
       "    .dataframe tbody tr th {\n",
       "        vertical-align: top;\n",
       "    }\n",
       "\n",
       "    .dataframe thead th {\n",
       "        text-align: right;\n",
       "    }\n",
       "</style>\n",
       "<table border=\"1\" class=\"dataframe\">\n",
       "  <thead>\n",
       "    <tr style=\"text-align: right;\">\n",
       "      <th></th>\n",
       "      <th>Postal Code</th>\n",
       "      <th>Sales</th>\n",
       "      <th>Quantity</th>\n",
       "      <th>Discount</th>\n",
       "      <th>Profit</th>\n",
       "    </tr>\n",
       "    <tr>\n",
       "      <th>Sub-Category</th>\n",
       "      <th></th>\n",
       "      <th></th>\n",
       "      <th></th>\n",
       "      <th></th>\n",
       "      <th></th>\n",
       "    </tr>\n",
       "  </thead>\n",
       "  <tbody>\n",
       "    <tr>\n",
       "      <th>Accessories</th>\n",
       "      <td>5286382</td>\n",
       "      <td>10958.8000</td>\n",
       "      <td>330</td>\n",
       "      <td>18.20</td>\n",
       "      <td>-930.6265</td>\n",
       "    </tr>\n",
       "    <tr>\n",
       "      <th>Appliances</th>\n",
       "      <td>4825871</td>\n",
       "      <td>3382.5340</td>\n",
       "      <td>235</td>\n",
       "      <td>53.60</td>\n",
       "      <td>-8629.6412</td>\n",
       "    </tr>\n",
       "    <tr>\n",
       "      <th>Binders</th>\n",
       "      <td>32609300</td>\n",
       "      <td>36140.6130</td>\n",
       "      <td>2456</td>\n",
       "      <td>452.40</td>\n",
       "      <td>-38510.4964</td>\n",
       "    </tr>\n",
       "    <tr>\n",
       "      <th>Bookcases</th>\n",
       "      <td>6423506</td>\n",
       "      <td>48072.7408</td>\n",
       "      <td>422</td>\n",
       "      <td>37.99</td>\n",
       "      <td>-12152.2060</td>\n",
       "    </tr>\n",
       "    <tr>\n",
       "      <th>Chairs</th>\n",
       "      <td>15008025</td>\n",
       "      <td>91988.4560</td>\n",
       "      <td>876</td>\n",
       "      <td>61.40</td>\n",
       "      <td>-9880.8413</td>\n",
       "    </tr>\n",
       "    <tr>\n",
       "      <th>Fasteners</th>\n",
       "      <td>701930</td>\n",
       "      <td>149.2800</td>\n",
       "      <td>55</td>\n",
       "      <td>2.40</td>\n",
       "      <td>-33.1952</td>\n",
       "    </tr>\n",
       "    <tr>\n",
       "      <th>Furnishings</th>\n",
       "      <td>10970913</td>\n",
       "      <td>12845.8440</td>\n",
       "      <td>597</td>\n",
       "      <td>88.60</td>\n",
       "      <td>-6490.9134</td>\n",
       "    </tr>\n",
       "    <tr>\n",
       "      <th>Machines</th>\n",
       "      <td>2236261</td>\n",
       "      <td>72456.2530</td>\n",
       "      <td>157</td>\n",
       "      <td>25.60</td>\n",
       "      <td>-30118.6682</td>\n",
       "    </tr>\n",
       "    <tr>\n",
       "      <th>Phones</th>\n",
       "      <td>6105294</td>\n",
       "      <td>35797.8400</td>\n",
       "      <td>476</td>\n",
       "      <td>46.60</td>\n",
       "      <td>-7530.6235</td>\n",
       "    </tr>\n",
       "    <tr>\n",
       "      <th>Storage</th>\n",
       "      <td>8606475</td>\n",
       "      <td>37869.0720</td>\n",
       "      <td>569</td>\n",
       "      <td>32.20</td>\n",
       "      <td>-6426.3038</td>\n",
       "    </tr>\n",
       "    <tr>\n",
       "      <th>Supplies</th>\n",
       "      <td>1761430</td>\n",
       "      <td>14067.1760</td>\n",
       "      <td>110</td>\n",
       "      <td>6.60</td>\n",
       "      <td>-3015.6219</td>\n",
       "    </tr>\n",
       "    <tr>\n",
       "      <th>Tables</th>\n",
       "      <td>10224004</td>\n",
       "      <td>104978.5460</td>\n",
       "      <td>757</td>\n",
       "      <td>74.15</td>\n",
       "      <td>-32412.1483</td>\n",
       "    </tr>\n",
       "  </tbody>\n",
       "</table>\n",
       "</div>"
      ],
      "text/plain": [
       "              Postal Code        Sales  Quantity  Discount      Profit\n",
       "Sub-Category                                                          \n",
       "Accessories       5286382   10958.8000       330     18.20   -930.6265\n",
       "Appliances        4825871    3382.5340       235     53.60  -8629.6412\n",
       "Binders          32609300   36140.6130      2456    452.40 -38510.4964\n",
       "Bookcases         6423506   48072.7408       422     37.99 -12152.2060\n",
       "Chairs           15008025   91988.4560       876     61.40  -9880.8413\n",
       "Fasteners          701930     149.2800        55      2.40    -33.1952\n",
       "Furnishings      10970913   12845.8440       597     88.60  -6490.9134\n",
       "Machines          2236261   72456.2530       157     25.60 -30118.6682\n",
       "Phones            6105294   35797.8400       476     46.60  -7530.6235\n",
       "Storage           8606475   37869.0720       569     32.20  -6426.3038\n",
       "Supplies          1761430   14067.1760       110      6.60  -3015.6219\n",
       "Tables           10224004  104978.5460       757     74.15 -32412.1483"
      ]
     },
     "execution_count": 30,
     "metadata": {},
     "output_type": "execute_result"
    }
   ],
   "source": [
    "loss_df.groupby(by='Sub-Category').sum()"
   ]
  },
  {
   "cell_type": "markdown",
   "id": "f7f4519c",
   "metadata": {
    "id": "f7f4519c"
   },
   "source": [
    "#### The Binders, Machines, and Tables categories have higher losses compared to others. \n",
    "#### The Binders category has high sales, so giving a lower discount on this category may result in substantial losses. \n",
    "#### Therefore, it is better to offer discounts on items that have lower sales to increase their sales."
   ]
  },
  {
   "cell_type": "code",
   "execution_count": 31,
   "id": "fbcd0b61",
   "metadata": {
    "id": "fbcd0b61",
    "outputId": "eaf2ab27-fead-4c4d-d8f8-eac3453bdf04"
   },
   "outputs": [
    {
     "data": {
      "text/plain": [
       "Binders        613\n",
       "Chairs         235\n",
       "Tables         203\n",
       "Furnishings    167\n",
       "Storage        161\n",
       "Phones         136\n",
       "Bookcases      109\n",
       "Accessories     91\n",
       "Appliances      67\n",
       "Machines        44\n",
       "Supplies        33\n",
       "Fasteners       12\n",
       "Name: Sub-Category, dtype: int64"
      ]
     },
     "execution_count": 31,
     "metadata": {},
     "output_type": "execute_result"
    }
   ],
   "source": [
    "loss_df['Sub-Category'].value_counts()"
   ]
  },
  {
   "cell_type": "code",
   "execution_count": 32,
   "id": "1112b2c0",
   "metadata": {
    "id": "1112b2c0",
    "outputId": "ae13b34a-24f0-410c-edce-9f40ed9bb461"
   },
   "outputs": [
    {
     "data": {
      "text/html": [
       "<div>\n",
       "<style scoped>\n",
       "    .dataframe tbody tr th:only-of-type {\n",
       "        vertical-align: middle;\n",
       "    }\n",
       "\n",
       "    .dataframe tbody tr th {\n",
       "        vertical-align: top;\n",
       "    }\n",
       "\n",
       "    .dataframe thead th {\n",
       "        text-align: right;\n",
       "    }\n",
       "</style>\n",
       "<table border=\"1\" class=\"dataframe\">\n",
       "  <thead>\n",
       "    <tr style=\"text-align: right;\">\n",
       "      <th></th>\n",
       "      <th>Postal Code</th>\n",
       "      <th>Sales</th>\n",
       "      <th>Quantity</th>\n",
       "      <th>Discount</th>\n",
       "      <th>Profit</th>\n",
       "    </tr>\n",
       "    <tr>\n",
       "      <th>City</th>\n",
       "      <th></th>\n",
       "      <th></th>\n",
       "      <th></th>\n",
       "      <th></th>\n",
       "      <th></th>\n",
       "    </tr>\n",
       "  </thead>\n",
       "  <tbody>\n",
       "    <tr>\n",
       "      <th>Philadelphia</th>\n",
       "      <td>4783713</td>\n",
       "      <td>70460.5510</td>\n",
       "      <td>892</td>\n",
       "      <td>115.30</td>\n",
       "      <td>-19590.7411</td>\n",
       "    </tr>\n",
       "    <tr>\n",
       "      <th>Houston</th>\n",
       "      <td>14256474</td>\n",
       "      <td>37640.7304</td>\n",
       "      <td>683</td>\n",
       "      <td>104.14</td>\n",
       "      <td>-14785.3668</td>\n",
       "    </tr>\n",
       "    <tr>\n",
       "      <th>Chicago</th>\n",
       "      <td>9397492</td>\n",
       "      <td>19910.0120</td>\n",
       "      <td>541</td>\n",
       "      <td>88.20</td>\n",
       "      <td>-11120.6271</td>\n",
       "    </tr>\n",
       "    <tr>\n",
       "      <th>San Antonio</th>\n",
       "      <td>2580831</td>\n",
       "      <td>17395.1450</td>\n",
       "      <td>139</td>\n",
       "      <td>17.10</td>\n",
       "      <td>-7831.0254</td>\n",
       "    </tr>\n",
       "    <tr>\n",
       "      <th>Lancaster</th>\n",
       "      <td>683904</td>\n",
       "      <td>7699.2420</td>\n",
       "      <td>71</td>\n",
       "      <td>9.40</td>\n",
       "      <td>-7632.4946</td>\n",
       "    </tr>\n",
       "    <tr>\n",
       "      <th>Burlington</th>\n",
       "      <td>108868</td>\n",
       "      <td>12044.8740</td>\n",
       "      <td>19</td>\n",
       "      <td>2.00</td>\n",
       "      <td>-5999.3318</td>\n",
       "    </tr>\n",
       "    <tr>\n",
       "      <th>Dallas</th>\n",
       "      <td>5487794</td>\n",
       "      <td>9994.0562</td>\n",
       "      <td>280</td>\n",
       "      <td>39.30</td>\n",
       "      <td>-4208.5218</td>\n",
       "    </tr>\n",
       "    <tr>\n",
       "      <th>Jacksonville</th>\n",
       "      <td>1237176</td>\n",
       "      <td>31146.2710</td>\n",
       "      <td>154</td>\n",
       "      <td>18.85</td>\n",
       "      <td>-4059.9857</td>\n",
       "    </tr>\n",
       "    <tr>\n",
       "      <th>New York City</th>\n",
       "      <td>400828</td>\n",
       "      <td>19533.8020</td>\n",
       "      <td>132</td>\n",
       "      <td>12.20</td>\n",
       "      <td>-3966.0226</td>\n",
       "    </tr>\n",
       "    <tr>\n",
       "      <th>Louisville</th>\n",
       "      <td>640216</td>\n",
       "      <td>2884.7840</td>\n",
       "      <td>35</td>\n",
       "      <td>4.90</td>\n",
       "      <td>-3694.1045</td>\n",
       "    </tr>\n",
       "  </tbody>\n",
       "</table>\n",
       "</div>"
      ],
      "text/plain": [
       "               Postal Code       Sales  Quantity  Discount      Profit\n",
       "City                                                                  \n",
       "Philadelphia       4783713  70460.5510       892    115.30 -19590.7411\n",
       "Houston           14256474  37640.7304       683    104.14 -14785.3668\n",
       "Chicago            9397492  19910.0120       541     88.20 -11120.6271\n",
       "San Antonio        2580831  17395.1450       139     17.10  -7831.0254\n",
       "Lancaster           683904   7699.2420        71      9.40  -7632.4946\n",
       "Burlington          108868  12044.8740        19      2.00  -5999.3318\n",
       "Dallas             5487794   9994.0562       280     39.30  -4208.5218\n",
       "Jacksonville       1237176  31146.2710       154     18.85  -4059.9857\n",
       "New York City       400828  19533.8020       132     12.20  -3966.0226\n",
       "Louisville          640216   2884.7840        35      4.90  -3694.1045"
      ]
     },
     "execution_count": 32,
     "metadata": {},
     "output_type": "execute_result"
    }
   ],
   "source": [
    "loss_df.groupby(by='City').sum().sort_values('Profit',ascending=True).head(10)"
   ]
  },
  {
   "cell_type": "markdown",
   "id": "cded593e",
   "metadata": {
    "id": "cded593e"
   },
   "source": [
    "### These are the top 10 cities where more loss is made"
   ]
  },
  {
   "cell_type": "code",
   "execution_count": 33,
   "id": "0f6f0fb9",
   "metadata": {
    "id": "0f6f0fb9",
    "outputId": "16679909-1bbe-409f-d7bb-1703c6fca567"
   },
   "outputs": [
    {
     "data": {
      "text/html": [
       "<div>\n",
       "<style scoped>\n",
       "    .dataframe tbody tr th:only-of-type {\n",
       "        vertical-align: middle;\n",
       "    }\n",
       "\n",
       "    .dataframe tbody tr th {\n",
       "        vertical-align: top;\n",
       "    }\n",
       "\n",
       "    .dataframe thead th {\n",
       "        text-align: right;\n",
       "    }\n",
       "</style>\n",
       "<table border=\"1\" class=\"dataframe\">\n",
       "  <thead>\n",
       "    <tr style=\"text-align: right;\">\n",
       "      <th></th>\n",
       "      <th>Postal Code</th>\n",
       "      <th>Sales</th>\n",
       "      <th>Quantity</th>\n",
       "      <th>Discount</th>\n",
       "      <th>Profit</th>\n",
       "    </tr>\n",
       "    <tr>\n",
       "      <th>Category</th>\n",
       "      <th></th>\n",
       "      <th></th>\n",
       "      <th></th>\n",
       "      <th></th>\n",
       "      <th></th>\n",
       "    </tr>\n",
       "  </thead>\n",
       "  <tbody>\n",
       "    <tr>\n",
       "      <th>Furniture</th>\n",
       "      <td>59700.907563</td>\n",
       "      <td>361.184295</td>\n",
       "      <td>3.714286</td>\n",
       "      <td>0.367143</td>\n",
       "      <td>-85.344690</td>\n",
       "    </tr>\n",
       "    <tr>\n",
       "      <th>Office Supplies</th>\n",
       "      <td>54746.056433</td>\n",
       "      <td>103.395796</td>\n",
       "      <td>3.865688</td>\n",
       "      <td>0.617607</td>\n",
       "      <td>-63.899840</td>\n",
       "    </tr>\n",
       "    <tr>\n",
       "      <th>Technology</th>\n",
       "      <td>50287.590406</td>\n",
       "      <td>439.899974</td>\n",
       "      <td>3.553506</td>\n",
       "      <td>0.333579</td>\n",
       "      <td>-142.361322</td>\n",
       "    </tr>\n",
       "  </tbody>\n",
       "</table>\n",
       "</div>"
      ],
      "text/plain": [
       "                  Postal Code       Sales  Quantity  Discount      Profit\n",
       "Category                                                                 \n",
       "Furniture        59700.907563  361.184295  3.714286  0.367143  -85.344690\n",
       "Office Supplies  54746.056433  103.395796  3.865688  0.617607  -63.899840\n",
       "Technology       50287.590406  439.899974  3.553506  0.333579 -142.361322"
      ]
     },
     "execution_count": 33,
     "metadata": {},
     "output_type": "execute_result"
    }
   ],
   "source": [
    "loss_df.sort_values(['Sales'],ascending=True).groupby(by='Category').mean()"
   ]
  },
  {
   "cell_type": "markdown",
   "id": "247e8460",
   "metadata": {
    "id": "247e8460"
   },
   "source": [
    "Here taking average, more loss is made for technology category."
   ]
  },
  {
   "cell_type": "code",
   "execution_count": 34,
   "id": "03495481",
   "metadata": {
    "id": "03495481",
    "outputId": "b97e0b84-019d-41f9-e728-9a7f78e10a87"
   },
   "outputs": [
    {
     "data": {
      "text/plain": [
       "State\n",
       "North Dakota             919.910\n",
       "West Virginia           1209.824\n",
       "Maine                   1270.530\n",
       "South Dakota            1315.560\n",
       "Wyoming                 1603.136\n",
       "District of Columbia    2865.020\n",
       "Kansas                  2914.310\n",
       "Idaho                   4382.486\n",
       "Iowa                    4579.760\n",
       "New Mexico              4783.522\n",
       "Name: Sales, dtype: float64"
      ]
     },
     "execution_count": 34,
     "metadata": {},
     "output_type": "execute_result"
    }
   ],
   "source": [
    "superstore_df.groupby(['State']).sum()['Sales'].nsmallest(10)"
   ]
  },
  {
   "cell_type": "markdown",
   "id": "ebc9f914",
   "metadata": {
    "id": "ebc9f914"
   },
   "source": [
    "### Improvements in sales can be achieved by focusing on the last 10 states with low sales."
   ]
  },
  {
   "cell_type": "code",
   "execution_count": 35,
   "id": "8905c7f2",
   "metadata": {
    "id": "8905c7f2",
    "outputId": "576d5ca5-fb88-4eaf-cdfc-5d70b5a9ab5f"
   },
   "outputs": [
    {
     "data": {
      "text/html": [
       "<div>\n",
       "<style scoped>\n",
       "    .dataframe tbody tr th:only-of-type {\n",
       "        vertical-align: middle;\n",
       "    }\n",
       "\n",
       "    .dataframe tbody tr th {\n",
       "        vertical-align: top;\n",
       "    }\n",
       "\n",
       "    .dataframe thead th {\n",
       "        text-align: right;\n",
       "    }\n",
       "</style>\n",
       "<table border=\"1\" class=\"dataframe\">\n",
       "  <thead>\n",
       "    <tr style=\"text-align: right;\">\n",
       "      <th></th>\n",
       "      <th>Postal Code</th>\n",
       "      <th>Sales</th>\n",
       "      <th>Quantity</th>\n",
       "      <th>Discount</th>\n",
       "      <th>Profit</th>\n",
       "    </tr>\n",
       "    <tr>\n",
       "      <th>Segment</th>\n",
       "      <th></th>\n",
       "      <th></th>\n",
       "      <th></th>\n",
       "      <th></th>\n",
       "      <th></th>\n",
       "    </tr>\n",
       "  </thead>\n",
       "  <tbody>\n",
       "    <tr>\n",
       "      <th>Consumer</th>\n",
       "      <td>288878609</td>\n",
       "      <td>1.161401e+06</td>\n",
       "      <td>19521</td>\n",
       "      <td>820.91</td>\n",
       "      <td>134119.2092</td>\n",
       "    </tr>\n",
       "    <tr>\n",
       "      <th>Corporate</th>\n",
       "      <td>164536330</td>\n",
       "      <td>7.061464e+05</td>\n",
       "      <td>11608</td>\n",
       "      <td>477.85</td>\n",
       "      <td>91979.1340</td>\n",
       "    </tr>\n",
       "    <tr>\n",
       "      <th>Home Office</th>\n",
       "      <td>98157713</td>\n",
       "      <td>4.296531e+05</td>\n",
       "      <td>6744</td>\n",
       "      <td>262.33</td>\n",
       "      <td>60298.6785</td>\n",
       "    </tr>\n",
       "  </tbody>\n",
       "</table>\n",
       "</div>"
      ],
      "text/plain": [
       "             Postal Code         Sales  Quantity  Discount       Profit\n",
       "Segment                                                                \n",
       "Consumer       288878609  1.161401e+06     19521    820.91  134119.2092\n",
       "Corporate      164536330  7.061464e+05     11608    477.85   91979.1340\n",
       "Home Office     98157713  4.296531e+05      6744    262.33   60298.6785"
      ]
     },
     "execution_count": 35,
     "metadata": {},
     "output_type": "execute_result"
    }
   ],
   "source": [
    "superstore_df.sort_values(['Segment'],ascending=True).groupby('Segment').sum()"
   ]
  },
  {
   "cell_type": "markdown",
   "id": "d9c20653",
   "metadata": {
    "id": "d9c20653"
   },
   "source": [
    "### The consumer segment has lower sales compared to other segments, but higher profits. Therefore, increasing sales in this segment, for example through advertising, would result in more profits."
   ]
  },
  {
   "cell_type": "code",
   "execution_count": 36,
   "id": "727bbcff",
   "metadata": {
    "id": "727bbcff",
    "outputId": "ef8cd568-ad99-4b36-8c55-47065cad5cee"
   },
   "outputs": [
    {
     "data": {
      "text/html": [
       "<div>\n",
       "<style scoped>\n",
       "    .dataframe tbody tr th:only-of-type {\n",
       "        vertical-align: middle;\n",
       "    }\n",
       "\n",
       "    .dataframe tbody tr th {\n",
       "        vertical-align: top;\n",
       "    }\n",
       "\n",
       "    .dataframe thead th {\n",
       "        text-align: right;\n",
       "    }\n",
       "</style>\n",
       "<table border=\"1\" class=\"dataframe\">\n",
       "  <thead>\n",
       "    <tr style=\"text-align: right;\">\n",
       "      <th></th>\n",
       "      <th>Postal Code</th>\n",
       "      <th>Sales</th>\n",
       "      <th>Quantity</th>\n",
       "      <th>Discount</th>\n",
       "      <th>Profit</th>\n",
       "    </tr>\n",
       "    <tr>\n",
       "      <th>Region</th>\n",
       "      <th></th>\n",
       "      <th></th>\n",
       "      <th></th>\n",
       "      <th></th>\n",
       "      <th></th>\n",
       "    </tr>\n",
       "  </thead>\n",
       "  <tbody>\n",
       "    <tr>\n",
       "      <th>Central</th>\n",
       "      <td>151786150</td>\n",
       "      <td>501239.8908</td>\n",
       "      <td>8780</td>\n",
       "      <td>558.34</td>\n",
       "      <td>39706.3625</td>\n",
       "    </tr>\n",
       "    <tr>\n",
       "      <th>East</th>\n",
       "      <td>50171698</td>\n",
       "      <td>678781.2400</td>\n",
       "      <td>10618</td>\n",
       "      <td>414.00</td>\n",
       "      <td>91522.7800</td>\n",
       "    </tr>\n",
       "    <tr>\n",
       "      <th>South</th>\n",
       "      <td>55875052</td>\n",
       "      <td>391721.9050</td>\n",
       "      <td>6209</td>\n",
       "      <td>238.55</td>\n",
       "      <td>46749.4303</td>\n",
       "    </tr>\n",
       "    <tr>\n",
       "      <th>West</th>\n",
       "      <td>293739752</td>\n",
       "      <td>725457.8245</td>\n",
       "      <td>12266</td>\n",
       "      <td>350.20</td>\n",
       "      <td>108418.4489</td>\n",
       "    </tr>\n",
       "  </tbody>\n",
       "</table>\n",
       "</div>"
      ],
      "text/plain": [
       "         Postal Code        Sales  Quantity  Discount       Profit\n",
       "Region                                                            \n",
       "Central    151786150  501239.8908      8780    558.34   39706.3625\n",
       "East        50171698  678781.2400     10618    414.00   91522.7800\n",
       "South       55875052  391721.9050      6209    238.55   46749.4303\n",
       "West       293739752  725457.8245     12266    350.20  108418.4489"
      ]
     },
     "execution_count": 36,
     "metadata": {},
     "output_type": "execute_result"
    }
   ],
   "source": [
    "superstore_df.groupby(by='Region').sum()"
   ]
  },
  {
   "cell_type": "markdown",
   "id": "41add948",
   "metadata": {
    "id": "41add948"
   },
   "source": [
    "### Sales are lower in the southern region as well, and there is a need for improvement to increase profits."
   ]
  }
 ],
 "metadata": {
  "colab": {
   "collapsed_sections": [
    "f7f4519c",
    "cded593e",
    "ebc9f914",
    "d9c20653",
    "41add948",
    "39b41e39",
    "455bffc8",
    "b5da2f1e",
    "d9861b40",
    "036c908b"
   ],
   "provenance": []
  },
  "kernelspec": {
   "display_name": "Python 3 (ipykernel)",
   "language": "python",
   "name": "python3"
  },
  "language_info": {
   "codemirror_mode": {
    "name": "ipython",
    "version": 3
   },
   "file_extension": ".py",
   "mimetype": "text/x-python",
   "name": "python",
   "nbconvert_exporter": "python",
   "pygments_lexer": "ipython3",
   "version": "3.9.7"
  }
 },
 "nbformat": 4,
 "nbformat_minor": 5
}
